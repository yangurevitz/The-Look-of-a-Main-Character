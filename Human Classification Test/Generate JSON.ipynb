{
 "cells": [
  {
   "cell_type": "markdown",
   "id": "f7969f82",
   "metadata": {},
   "source": [
    "# Generate JSON\n",
    "\n",
    "The purpose of this Notebook is to aggregate the answers from the survey into JSON files, in order to facilitate the future analysis of the results.\n",
    "\n",
    "In addition, the initial quantitative analysis of the combined results will also take place in this Notebook."
   ]
  },
  {
   "cell_type": "markdown",
   "id": "53c03a2b",
   "metadata": {},
   "source": [
    "## Expected File Structure\n",
    "\n",
    "The code expects there to be two folders at the same level as the Notebook itself: an “Answers” folder containing the results for each survey taker, and a “Character Lists” folder with the character order for each survey taker. The files are expected to be named “username Answers.txt” and  “username Character List.txt”, respectively, and the code expects there to be one Answers and one Character List file for every user. It's also expected that there'll be a \"Data\" folder one level above this Notebook, containing images for each character and devided between Main and Supporting, according ot their label.\n",
    "\n",
    "The resulting JSON files will be created at the same level as the Notebook."
   ]
  },
  {
   "cell_type": "code",
   "execution_count": null,
   "id": "7d396b63",
   "metadata": {},
   "outputs": [],
   "source": [
    "# This cell reads the input files and generates the initial answers structure\n",
    "\n",
    "import pathlib\n",
    "import codecs\n",
    "\n",
    "# A dictionary of all characters, devided according to their label\n",
    "# Each character will have a list of answers\n",
    "characters = {\"Main\": {}, \"Supporting\": {}}\n",
    "for role in [\"Main\", \"Supporting\"]:\n",
    "    for character in pathlib.Path(\"../data/\"+role).iterdir():\n",
    "        name = str(character).split(\"\\\\\")[-1]\n",
    "        characters[role][name] = []\n",
    "\n",
    "accuracies = []\n",
    "knowledge = []\n",
    "\n",
    "for answersPath in pathlib.Path(\"Answers\").iterdir():\n",
    "    answersFileName = str(answersPath).split(\"\\\\\")[-1]\n",
    "    userName = answersFileName.split()[0]\n",
    "    answersFile = open(\"Answers/\"+answersFileName, \"r\")\n",
    "    answers = []\n",
    "    for line in answersFile:\n",
    "        answers.append(line[:-1])\n",
    "    answersFile.close()\n",
    "    charactersFile = codecs.open(\"Character Lists/\"+userName+\" Character List.txt\", \"r\", \"utf-8\")\n",
    "    characterList = []\n",
    "    for line in charactersFile:\n",
    "        lineList = line.split(\",\")\n",
    "        role = lineList[-1][:-1]\n",
    "        name = lineList[0]\n",
    "        for i in range(1, len(lineList)-1):\n",
    "            name += \",\" + lineList[i]\n",
    "        characterList.append((name, role))\n",
    "    charactersFile.close()\n",
    "    rightAnswers = 0\n",
    "    knownCharacters = 0\n",
    "    for i in range(len(answers)):\n",
    "        characterName = characterList[i][0].split(\"/\")[-1]\n",
    "        characters[characterList[i][1]][characterName].append(answers[i])\n",
    "        if answers[i] == \"Known\":\n",
    "            knownCharacters += 1\n",
    "        elif answers[i] == characterList[i][1]:\n",
    "            rightAnswers += 1\n",
    "    accuracy = rightAnswers/(len(answers)-knownCharacters)*100\n",
    "    known = (knownCharacters/len(answers))*100\n",
    "    accuracies.append(accuracy)\n",
    "    knowledge.append(known)"
   ]
  },
  {
   "cell_type": "code",
   "execution_count": null,
   "id": "c301be57",
   "metadata": {},
   "outputs": [],
   "source": [
    "# Determining the majority answer for each character\n",
    "\n",
    "simpleHumanResults = {\"Main\": {}, \"Supporting\": {}}\n",
    "\n",
    "for role in [\"Main\", \"Supporting\"]:\n",
    "    for character in characters[role]:\n",
    "        answerCount = {\"Main\": 0, \"Supporting\": 0, \"Known\": 0}\n",
    "        for answer in characters[role][character]:\n",
    "            answerCount[answer] += 1\n",
    "        if answerCount[\"Supporting\"] > answerCount[\"Main\"]:\n",
    "            simpleHumanResults[role][character] = \"Supporting\"\n",
    "        else:\n",
    "            simpleHumanResults[role][character] = \"Main\""
   ]
  },
  {
   "cell_type": "code",
   "execution_count": null,
   "id": "a6674935",
   "metadata": {},
   "outputs": [],
   "source": [
    "# Saving the dicts as JSON files\n",
    "\n",
    "import json\n",
    "\n",
    "json.dump(simpleHumanResults, open(\"Simple Human Results.json\", \"w\"))"
   ]
  },
  {
   "cell_type": "code",
   "execution_count": null,
   "id": "d54d351d",
   "metadata": {},
   "outputs": [],
   "source": [
    "json.dump(characters, open(\"Human Results.json\", \"w\"))"
   ]
  },
  {
   "cell_type": "markdown",
   "id": "fe7ca399",
   "metadata": {},
   "source": [
    "## Initial Analysis of the Results"
   ]
  },
  {
   "cell_type": "code",
   "execution_count": null,
   "id": "f17c8a06",
   "metadata": {},
   "outputs": [],
   "source": [
    "# Calculating total accuracy\n",
    "\n",
    "totalAnswers = 0\n",
    "knownAnswers = 0\n",
    "rightAnswers = 0\n",
    "\n",
    "results = {\"Main\": {}, \"Supporting\": {}}\n",
    "for role in [\"Main\", \"Supporting\"]:\n",
    "    for character in characters[role]:\n",
    "        results[role][character] = {\"total\": 0, \"known\": 0, \"right\": 0}\n",
    "\n",
    "roleResults = {\"Main\": [0, 0, 0], \"Supporting\": [0, 0, 0]}\n",
    "        \n",
    "for role in [\"Main\", \"Supporting\"]:\n",
    "    for character in characters[role]:\n",
    "        for answer in characters[role][character]:\n",
    "            totalAnswers += 1\n",
    "            results[role][character][\"total\"] += 1\n",
    "            roleResults[role][2] += 1\n",
    "            if answer == \"Known\":\n",
    "                knownAnswers += 1\n",
    "                results[role][character][\"known\"] += 1\n",
    "                roleResults[role][1] += 1\n",
    "            elif answer == role:\n",
    "                rightAnswers += 1\n",
    "                results[role][character][\"right\"] += 1\n",
    "                roleResults[role][0] += 1\n",
    "                \n",
    "accuracy = rightAnswers/(totalAnswers-knownAnswers)*100\n",
    "known = (knownAnswers/totalAnswers)*100\n",
    "\n",
    "print(\"Number of answers: \"+str(totalAnswers))\n",
    "print(\"Total accuracy: \"+str(accuracy)+\"%\")\n",
    "print(\"Percentage of known characters: \"+str(known)+\"%\")"
   ]
  },
  {
   "cell_type": "code",
   "execution_count": null,
   "id": "8691c9d0",
   "metadata": {},
   "outputs": [],
   "source": [
    "# Data on characters that every survey taker got wrong\n",
    "\n",
    "failures = []\n",
    "\n",
    "for role in [\"Main\", \"Supporting\"]:\n",
    "    for character in results[role]:\n",
    "        if results[role][character][\"right\"] == 0 and results[role][character][\"total\"] > results[role][character][\"known\"]:\n",
    "            failures.append(character)\n",
    "            \n",
    "print(\"Number of characters with no right answers:\", len(failures))"
   ]
  },
  {
   "cell_type": "code",
   "execution_count": null,
   "id": "4b4ac0d6",
   "metadata": {},
   "outputs": [],
   "source": [
    "# Calculating CrossEntropy of the combined results\n",
    "# Source: https://stackoverflow.com/questions/47377222/what-is-the-problem-with-my-implementation-of-the-cross-entropy-function\n",
    "\n",
    "import numpy as np\n",
    "\n",
    "def cross_entropy(predictions, targets, epsilon=1e-12):\n",
    "    \"\"\"\n",
    "    Computes cross entropy between targets (encoded as one-hot vectors)\n",
    "    and predictions. \n",
    "    Input: predictions (N, k) ndarray\n",
    "           targets (N, k) ndarray        \n",
    "    Returns: scalar\n",
    "    \"\"\"\n",
    "    predictions = np.clip(predictions, epsilon, 1. - epsilon)\n",
    "    N = predictions.shape[0]\n",
    "    ce = -np.sum(targets*np.log(predictions+1e-9))/N\n",
    "    return ce"
   ]
  },
  {
   "cell_type": "code",
   "execution_count": null,
   "id": "93fb78a4",
   "metadata": {},
   "outputs": [],
   "source": [
    "groupedResults = []\n",
    "targets = []\n",
    "probabilisticHumanResults = {\"Main\": {}, \"Supporting\": {}}\n",
    "\n",
    "for character in results[\"Main\"]:\n",
    "    validAnswers = results[\"Main\"][character][\"total\"]-results[\"Main\"][character][\"known\"]\n",
    "    if validAnswers == 0:\n",
    "        continue\n",
    "    targets.append([1, 0])\n",
    "    mainChance = results[\"Main\"][character][\"right\"] / validAnswers\n",
    "    supportingChance = 1 - mainChance\n",
    "    groupedResults.append([mainChance, supportingChance])\n",
    "    probabilisticHumanResults[\"Main\"][character] = [mainChance, supportingChance]\n",
    "    \n",
    "for character in results[\"Supporting\"]:\n",
    "    validAnswers = results[\"Supporting\"][character][\"total\"]-results[\"Supporting\"][character][\"known\"]\n",
    "    if validAnswers == 0:\n",
    "        continue\n",
    "    targets.append([0, 1])\n",
    "    supportingChance = results[\"Supporting\"][character][\"right\"] / validAnswers\n",
    "    mainChance = 1 - supportingChance\n",
    "    groupedResults.append([mainChance, supportingChance])\n",
    "    probabilisticHumanResults[\"Supporting\"][character] = [mainChance, supportingChance]\n",
    "    \n",
    "groupedResults = np.array(groupedResults)\n",
    "targets = np.array(targets)\n",
    "crossEntropy = cross_entropy(groupedResults, targets)\n",
    "print(\"CrossEntropy:\", crossEntropy)"
   ]
  },
  {
   "cell_type": "code",
   "execution_count": null,
   "id": "b183a6ae",
   "metadata": {},
   "outputs": [],
   "source": [
    "# Saving probabilistic results as JSON\n",
    "\n",
    "json.dump(probabilisticHumanResults, open(\"Probabilistic Human Results.json\", \"w\"))"
   ]
  }
 ],
 "metadata": {
  "kernelspec": {
   "display_name": "gpu4",
   "language": "python",
   "name": "gpu4"
  },
  "language_info": {
   "codemirror_mode": {
    "name": "ipython",
    "version": 3
   },
   "file_extension": ".py",
   "mimetype": "text/x-python",
   "name": "python",
   "nbconvert_exporter": "python",
   "pygments_lexer": "ipython3",
   "version": "3.7.3"
  }
 },
 "nbformat": 4,
 "nbformat_minor": 5
}
